{
    "metadata": {
        "kernelspec": {
            "name": "SQL",
            "display_name": "SQL",
            "language": "sql"
        },
        "language_info": {
            "name": "sql",
            "version": ""
        }
    },
    "nbformat_minor": 2,
    "nbformat": 4,
    "cells": [
        {
            "cell_type": "markdown",
            "source": [
                "For creating the tables"
            ],
            "metadata": {
                "azdata_cell_guid": "e77058da-f680-426a-905b-cdd34d66b536"
            },
            "attachments": {}
        },
        {
            "cell_type": "code",
            "source": [
                "IF OBJECT_ID('auth', 'U') IS NOT NULL\r\n",
                "    DROP TABLE auth;\r\n",
                "IF OBJECT_ID('faculty', 'U') IS NOT NULL\r\n",
                "    DROP TABLE faculty;\r\n",
                "IF OBJECT_ID('student', 'U') IS NOT NULL\r\n",
                "    DROP TABLE student;\r\n",
                "IF OBJECT_ID('classroom', 'U') IS NOT NULL\r\n",
                "    DROP TABLE classroom;\r\n",
                "IF OBJECT_ID('exam', 'U') IS NOT NULL\r\n",
                "    DROP TABLE exam;\r\n",
                "IF OBJECT_ID('grade', 'U') IS NOT NULL\r\n",
                "    DROP TABLE grade;\r\n",
                "IF OBJECT_ID('timetable', 'U') IS NOT NULL\r\n",
                "    DROP TABLE timetable;\r\n",
                "IF OBJECT_ID('signup', 'U') IS NOT NULL\r\n",
                "    DROP TABLE signup;\r\n",
                "IF OBJECT_ID('permissions', 'U') IS NOT NULL\r\n",
                "    DROP TABLE permissions;\r\n",
                "IF OBJECT_ID('course', 'U') IS NOT NULL\r\n",
                "    DROP TABLE course;\r\n",
                "\r\n",
                "CREATE TABLE permissions (\r\n",
                "    UserID INT NOT NULL,\r\n",
                "    Course_Add BIT NOT NULL,\r\n",
                "    Course_Enroll BIT NOT NULL,\r\n",
                "    Grades_Add BIT NOT NULL,\r\n",
                "    Grades_View BIT NOT NULL,\r\n",
                "    Current_Year INT NOT NULL,\r\n",
                "    Current_Sem NVARCHAR(20) NOT NULL CHECK (Current_Sem IN ('Winter', 'Monsoon')),\r\n",
                "    Midsem_Start_Date DATE NOT NULL,\r\n",
                "    Endsem_Start_Date DATE NOT NULL,\r\n",
                "    CONSTRAINT PK_Permissions_UserID PRIMARY KEY (UserID)\r\n",
                ");\r\n",
                "\r\n",
                "\r\n",
                "CREATE TABLE auth (\r\n",
                "    UserID INT PRIMARY KEY NOT NULL,\r\n",
                "    Password_hash CHAR(32) NOT NULL,\r\n",
                "    UserType NVARCHAR(50) NOT NULL CHECK (UserType IN ('Faculty', 'Student', 'Admin')),\r\n",
                "    Role NVARCHAR(50) NOT NULL CHECK (Role IN ('Admin', 'Dean', 'Registrar', 'Superuser', 'Faculty', 'Student')),\r\n",
                "    Email VARCHAR(32) NOT NULL\r\n",
                ");\r\n",
                "INSERT INTO auth (UserID, Password_hash, UserType, Role, Email)\r\n",
                "VALUES (0, CONVERT(VARCHAR(32), HASHBYTES('MD5', 'superuser'), 2), 'Admin', 'Superuser', 'superuser@iitg.ac.in');\r\n",
                "\r\n",
                "\r\n",
                "\r\n",
                "IF EXISTS (SELECT 1 FROM INFORMATION_SCHEMA.TABLES WHERE TABLE_NAME = 'faculty')\r\n",
                "    DROP TABLE faculty;\r\n",
                "\r\n",
                "CREATE TABLE faculty (\r\n",
                "    User_ID VARCHAR(10) NOT NULL PRIMARY KEY,\r\n",
                "    Name VARCHAR(50) NOT NULL,\r\n",
                "    DOB DATE,\r\n",
                "    Contact VARCHAR(20) NOT NULL,\r\n",
                "    Email VARCHAR(100) NOT NULL,\r\n",
                "    Office_Room VARCHAR(10) NOT NULL,\r\n",
                "    Joining_Year INT NOT NULL,\r\n",
                "    Research_Interests NVARCHAR(MAX) NOT NULL,\r\n",
                "    Designation VARCHAR(50) NOT NULL\r\n",
                ");\r\n",
                "\r\n",
                "\r\n",
                "\r\n",
                "\r\n",
                "CREATE TABLE student (\r\n",
                "    User_ID INT NOT NULL PRIMARY KEY,\r\n",
                "    Name VARCHAR(50) NOT NULL,\r\n",
                "    DOB DATE NOT NULL,\r\n",
                "    Contact CHAR(10) NOT NULL,\r\n",
                "    Enrollment_Year INT NOT NULL,\r\n",
                "    Address VARCHAR(200) NOT NULL,\r\n",
                "    Current_Semester INT NOT NULL\r\n",
                ");\r\n",
                "\r\n",
                "CREATE TABLE classroom (\r\n",
                "    Room_ID INT PRIMARY KEY NOT NULL,\r\n",
                "    Capacity INT NOT NULL,\r\n",
                "    Room_type NVARCHAR(50) NOT NULL CHECK (Room_type IN ('Lab', 'Theory'))\r\n",
                ");\r\n",
                "\r\n",
                "CREATE TABLE exam (\r\n",
                "    Course_ID INT NOT NULL,\r\n",
                "    [Date] DATE NOT NULL,\r\n",
                "    Time_Slot VARCHAR(10) NOT NULL,\r\n",
                "    Room_ID INT NOT NULL,\r\n",
                "    Student_List NVARCHAR(MAX) NOT NULL\r\n",
                ");\r\n",
                "\r\n",
                "CREATE TABLE grade (\r\n",
                "    User_ID INT NOT NULL,\r\n",
                "    CourseCode CHAR(5) NOT NULL,\r\n",
                "    Grade INT DEFAULT NULL,\r\n",
                "    Approval_Status NVARCHAR(20) NOT NULL DEFAULT 'Pending' CHECK (Approval_Status IN ('Approved', 'Pending')) \r\n",
                ");\r\n",
                "\r\n",
                "CREATE TABLE timetable (\r\n",
                "    Course_ID INT NOT NULL,\r\n",
                "    Room_ID INT NOT NULL,\r\n",
                "    Slot VARCHAR(10) NOT NULL\r\n",
                ");\r\n",
                "\r\n",
                "CREATE TABLE signup (\r\n",
                "    Name VARCHAR(50) NOT NULL,\r\n",
                "    DOB DATE NOT NULL,\r\n",
                "    Contact CHAR(10) NOT NULL,\r\n",
                "    Address VARCHAR(200) NOT NULL,\r\n",
                "    Email CHAR(100) NOT NULL,\r\n",
                "    Approval_status NVARCHAR(20) NOT NULL DEFAULT 'Pending' CHECK (Approval_status IN ('Rejected', 'Pending', 'Approved')),\r\n",
                "    UserType NVARCHAR(20) NOT NULL CHECK (UserType IN ('Faculty', 'Student', 'Admin')),\r\n",
                "    Password_hash CHAR(32) NOT NULL\r\n",
                ");\r\n",
                "\r\n",
                "CREATE TABLE course (\r\n",
                "    Course_Code CHAR(5) PRIMARY KEY,\r\n",
                "    Name VARCHAR(50) NOT NULL,\r\n",
                "    Description VARCHAR(200),\r\n",
                "    L INT NOT NULL,\r\n",
                "    T INT NOT NULL,\r\n",
                "    P INT NOT NULL,\r\n",
                "    C INT NOT NULL,\r\n",
                "    Faculty_ID INT,\r\n",
                "    Intake INT,\r\n",
                "    Semester VARCHAR(50) NOT NULL, -- Assuming multiple integers separated by comma or stored in a different format\r\n",
                "    ElectiveOrCompulsory BIT NOT NULL -- BIT data type for elective or compulsory (0 for compulsory, 1 for elective)\r\n",
                ");\r\n",
                "\r\n",
                ""
            ],
            "metadata": {
                "azdata_cell_guid": "05264036-1520-45e3-9149-7a0c26627b3b",
                "language": "sql"
            },
            "outputs": [
                {
                    "output_type": "display_data",
                    "data": {
                        "text/html": "(1 row affected)"
                    },
                    "metadata": {}
                },
                {
                    "output_type": "display_data",
                    "data": {
                        "text/html": "Total execution time: 00:00:00.405"
                    },
                    "metadata": {}
                }
            ],
            "execution_count": 80
        },
        {
            "cell_type": "code",
            "source": [
                "INSERT INTO faculty (User_ID, Name, Contact, Email, Office_Room, Joining_Year, Research_Interests, Designation)\r\n",
                "VALUES \r\n",
                "(2011001, 'Ashish Anand', '+91-361-2582374', 'anand.ashish@iitg.ac.in', 'H-008', 2011, 'NLP, Clinical Text Mining, Machine Learning, Deep Learning', 'Professor'),\r\n",
                "(2011002, 'Amit Awekar', '+91-361-2582373', 'awekar@iitg.ac.in', 'H-302', 2011, 'Data Mining, Natural Language Processing', 'Associate Professor'),\r\n",
                "(2014011, 'Rashmi Dutta Baruah', '+91-361-2583253', 'r.duttabaruah@iitg.ac.in', 'H-005', 2014, 'Evolving and Adaptive Intelligent Systems, Computational Intelligence, Deep Learning, Explainable AI, Model Interpretability', 'Assistant Professor'),\r\n",
                "(2004001, 'Purandar Bhaduri', '+91-361-2582360', 'pbhaduri@iitg.ac.in', 'H-102', 2004, 'Formal Verification of Reactive Systems, Automated Controller Synthesis, Logic and Semantics of Computation', 'Professor'),\r\n",
                "(2019001, 'Sukanta Bhattacharjee', '+91-361-2583259', 'sukantab@iitg.ac.in', 'H-303', 2019, 'Design Automation Algorithms, Microfluidics, Security', 'Assistant Professor'),\r\n",
                "(2008001, 'Samit Bhattacharya', '+91-361-2582362', 'samit@iitg.ac.in', 'H-203', 2008, 'Human Computer Interaction, User Modeling, Model Based Evaluation of Interactive Systems, Rehabilitation Engineering', 'Associate Professor'),\r\n",
                "(1998001, 'Pradip Kr. Das', '+91-361-2582353', 'pkdas@iitg.ac.in', 'H-106', 1998, 'Speech Processing, Man-Machine Intelligence Systems, Algorithms, Software Engineering, Smart Devices, Mobile Robotics', 'Professor'),\r\n",
                "(2001001, 'Jatindra Kumar Deka', '+91-361-2582354', 'jatin@iitg.ac.in', 'H-207', 2001, 'Formal Modelling and Verification, CAD for VLSI and Embedded Systems (Design, Testing and Verification)', 'Professor'),\r\n",
                "(2002001, 'Diganta Goswami', '+91-361-2582355', 'dgoswami@iitg.ac.in', 'H-205', 2002, 'Distributed Systems, Software Engineering', 'Professor'),\r\n",
                "(2010001, 'R. Inkulu', '+91-361-2582371', 'rinkulu@iitg.ac.in', 'H-005', 2010, 'Algorithms', 'Associate Professor'),\r\n",
                "(2010002, 'Benny George K', '+91-361-2582372', 'ben@iitg.ac.in', 'H-305', 2010, 'Word combinatorics, algorithms and combinatorics', 'Assistant Professor'),\r\n",
                "(2015001, 'John Jose', '+91-361-2583256', 'johnjose@iitg.ac.in', 'H-201', 2015, 'Computer Architecture, On-chip Storage and Interconnects, Hardware/IoT Security, Disaggregated Systems, Edge Device Computing', 'Associate Professor'),\r\n",
                "(2007001, 'Hemangee K. Kapoor', '+91-361-2582363', 'hemangee@iitg.ac.in', 'H-204', 2007, 'Multiprocessor Computer Architecture, Formal Methods, Network-on-Chip design, Asynchronous systems', 'Professor'),\r\n",
                "(2016001, 'Chandan Karfa', '+91-361-2582375', 'ckarfa@iitg.ac.in', 'H-002', 2016, 'Formal Verification, High-level Synthesis, Electronic Design Automation, Hardware Security, Verification of Compiler Optimizations', 'Associate Professor'),\r\n",
                "(2009001, 'Sushanta Karmakar', '+91-361-2582368', 'sushantak@iitg.ac.in', 'H-307', 2009, 'Graph Algorithms, Distributed Optimization', 'Professor'),\r\n",
                "(2012001, 'Deepanjan Kesh', '+91-361-2582377', 'deepkesh@iitg.ac.in', 'H-003', 2012, 'Data Structures and Algorithms', 'Associate Professor'),\r\n",
                "(2018001, 'Manas Khatua', '+91-361-2583258', 'manaskhatua@iitg.ac.in', 'H-112', 2018, 'Internet of Things, Wireless Networks, Sensor Networks, Network Security, Cloud and Edge Computing, Cyber Physical Systems', 'Assistant Professor'),\r\n",
                "(2004002, 'Pinaki Mitra', '+91-361-2582352', 'pinaki@iitg.ac.in', 'H-10', 2004, 'Computational Geometry, Parallel Algorithms, Randomized Algorithms, Optimization', 'Associate Professor'),\r\n",
                "(1998002, 'Shivashankar B. Nair', '+91-361-2582356', 'sbnair@iitg.ac.in', 'H-105', 1998, 'Artificial Intelligence, Intelligent and Nature-Inspired & Emotional Robots, Mobile Agent based systems, Artificial Immune Systems, Intelligent Internet of Things, Cyber-Physical Systems, Natural Language Processing, Genetic Algorithms, Fuzzy Systems & Neural Networks', 'Professor'),\r\n",
                "(2018002, 'Moumita Patra', '+91-361-2582365', 'moumita.patra@iitg.ac.in', 'H-208', 2018, 'Wireless networks, Internet of vehicles, IoT, 5G based communication, Network performance analysis', 'Assistant Professor'),\r\n",
                "(1998003, 'S. V. Rao', '+91-361-2582358', 'svrao@iitg.ac.in', 'H-108', 1998, 'Wireless Networks, Software Defined Networking, Algorithms', 'Professor'),\r\n",
                "(2009002, 'Aryabartta Sahu', '+91-361-2582370', 'asahu@iitg.ac.in', 'H-110', 2009, 'Multicore (Architecture, Scheduling and Programming) and Computational Social Systems', 'Associate Professor'),\r\n",
                "(1997001, 'G. Sajith', '+91-361-2582359', 'sajith@iitg.ac.in', 'H-107', 1997, 'External Memory Algorithms, Algorithmic Game Theory, Parallel and Distributed Algorithms, Complexity Theory', 'Professor'),\r\n",
                "(2009003, 'V. Vijaya Saradhi', '+91-361-2582367', 'saradhi@iitg.ac.in', 'H-308', 2009, 'Machine Learning, Kernel Methods, Data Mining and their applications', 'Associate Professor'),\r\n",
                "(2009004, 'Sanasam Ranbir Singh', '+91-361-2582369', 'ranbir@iitg.ac.in', 'H-306', 2009, 'Open Source Intelligence (Social Media/Social Network Analysis), Information Retrieval, NLP', 'Professor'),\r\n",
                "(2009005, 'Arijit Sur', '+91-361-2582361', 'arijit@iitg.ac.in', 'H-103', 2009, 'Computer Vision using Deep Learning: Machine learning, Adaptive video streaming, Media Forensics', 'Professor'),\r\n",
                "(2009006, 'Tamarapalli Venkatesh', '+91-361-2582366', 't.venkat@iitg.ac.in', 'H-202', 2009, 'Network Protocols and Architectures, Cloud Data Centers, Multimedia Streaming', 'Professor and Head');\r\n",
                ""
            ],
            "metadata": {
                "language": "sql",
                "azdata_cell_guid": "f90c896a-72cc-4a86-9724-ad9d14ac639e",
                "tags": []
            },
            "outputs": [
                {
                    "output_type": "display_data",
                    "data": {
                        "text/html": "(27 rows affected)"
                    },
                    "metadata": {}
                },
                {
                    "output_type": "display_data",
                    "data": {
                        "text/html": "Total execution time: 00:00:00.264"
                    },
                    "metadata": {}
                }
            ],
            "execution_count": 81
        },
        {
            "cell_type": "code",
            "source": [
                "INSERT INTO auth (UserID, Password_hash, UserType, Role, Email)\r\n",
                "VALUES \r\n",
                "(2011001, CONVERT(VARCHAR(32), HASHBYTES('MD5', 'anand.ashish'), 2), 'Faculty', 'Faculty', 'anand.ashish@iitg.ac.in'),\r\n",
                "(2011002, CONVERT(VARCHAR(32), HASHBYTES('MD5', 'awekar'), 2), 'Faculty', 'Faculty', 'awekar@iitg.ac.in'),\r\n",
                "(2014011, CONVERT(VARCHAR(32), HASHBYTES('MD5', 'r.duttabaruah'), 2), 'Faculty', 'Faculty', 'r.duttabaruah@iitg.ac.in'),\r\n",
                "(2004001, CONVERT(VARCHAR(32), HASHBYTES('MD5', 'pbhaduri'), 2), 'Faculty', 'Faculty', 'pbhaduri@iitg.ac.in'),\r\n",
                "(2019001, CONVERT(VARCHAR(32), HASHBYTES('MD5', 'sukantab'), 2), 'Faculty', 'Faculty', 'sukantab@iitg.ac.in'),\r\n",
                "(2008001, CONVERT(VARCHAR(32), HASHBYTES('MD5', 'samit'), 2), 'Faculty', 'Faculty', 'samit@iitg.ac.in'),\r\n",
                "(1998001, CONVERT(VARCHAR(32), HASHBYTES('MD5', 'pkdas'), 2), 'Faculty', 'Faculty', 'pkdas@iitg.ac.in'),\r\n",
                "(2001001, CONVERT(VARCHAR(32), HASHBYTES('MD5', 'jatin'), 2), 'Faculty', 'Faculty', 'jatin@iitg.ac.in'),\r\n",
                "(2002001, CONVERT(VARCHAR(32), HASHBYTES('MD5', 'dgoswami'), 2), 'Faculty', 'Faculty', 'dgoswami@iitg.ac.in'),\r\n",
                "(2010001, CONVERT(VARCHAR(32), HASHBYTES('MD5', 'rinkulu'), 2), 'Faculty', 'Faculty', 'rinkulu@iitg.ac.in'),\r\n",
                "(2010002, CONVERT(VARCHAR(32), HASHBYTES('MD5', 'ben'), 2), 'Faculty', 'Faculty', 'ben@iitg.ac.in'),\r\n",
                "(2015001, CONVERT(VARCHAR(32), HASHBYTES('MD5', 'johnjose'), 2), 'Faculty', 'Faculty', 'johnjose@iitg.ac.in'),\r\n",
                "(2007001, CONVERT(VARCHAR(32), HASHBYTES('MD5', 'hemangee'), 2), 'Faculty', 'Faculty', 'hemangee@iitg.ac.in'),\r\n",
                "(2016001, CONVERT(VARCHAR(32), HASHBYTES('MD5', 'ckarfa'), 2), 'Faculty', 'Faculty', 'ckarfa@iitg.ac.in'),\r\n",
                "(2009001, CONVERT(VARCHAR(32), HASHBYTES('MD5', 'sushantak'), 2), 'Faculty', 'Faculty', 'sushantak@iitg.ac.in'),\r\n",
                "(2012001, CONVERT(VARCHAR(32), HASHBYTES('MD5', 'deepkesh'), 2), 'Faculty', 'Faculty', 'deepkesh@iitg.ac.in'),\r\n",
                "(2018001, CONVERT(VARCHAR(32), HASHBYTES('MD5', 'manaskhatua'), 2), 'Faculty', 'Faculty', 'manaskhatua@iitg.ac.in'),\r\n",
                "(2004002, CONVERT(VARCHAR(32), HASHBYTES('MD5', 'pinaki'), 2), 'Faculty', 'Faculty', 'pinaki@iitg.ac.in'),\r\n",
                "(1998002, CONVERT(VARCHAR(32), HASHBYTES('MD5', 'sbnair'), 2), 'Faculty', 'Faculty', 'sbnair@iitg.ac.in'),\r\n",
                "(2018002, CONVERT(VARCHAR(32), HASHBYTES('MD5', 'moumita.patra'), 2), 'Faculty', 'Faculty', 'moumita.patra@iitg.ac.in'),\r\n",
                "(1998003, CONVERT(VARCHAR(32), HASHBYTES('MD5', 'svrao'), 2), 'Faculty', 'Faculty', 'svrao@iitg.ac.in'),\r\n",
                "(2009002, CONVERT(VARCHAR(32), HASHBYTES('MD5', 'asahu'), 2), 'Faculty', 'Faculty', 'asahu@iitg.ac.in'),\r\n",
                "(1997001, CONVERT(VARCHAR(32), HASHBYTES('MD5', 'sajith'), 2), 'Faculty', 'Faculty', 'sajith@iitg.ac.in'),\r\n",
                "(2009003, CONVERT(VARCHAR(32), HASHBYTES('MD5', 'saradhi'), 2), 'Faculty', 'Faculty', 'saradhi@iitg.ac.in'),\r\n",
                "(2009004, CONVERT(VARCHAR(32), HASHBYTES('MD5', 'ranbir'), 2), 'Faculty', 'Faculty', 'ranbir@iitg.ac.in'),\r\n",
                "(2009005, CONVERT(VARCHAR(32), HASHBYTES('MD5', 'arijit'), 2), 'Faculty', 'Faculty', 'arijit@iitg.ac.in'),\r\n",
                "(2009006, CONVERT(VARCHAR(32), HASHBYTES('MD5', 't.venkat'), 2), 'Faculty', 'Faculty', 't.venkat@iitg.ac.in');\r\n",
                ""
            ],
            "metadata": {
                "language": "sql",
                "azdata_cell_guid": "7525a3bb-a889-41c4-9035-76352985aef2"
            },
            "outputs": [
                {
                    "output_type": "display_data",
                    "data": {
                        "text/html": "(27 rows affected)"
                    },
                    "metadata": {}
                },
                {
                    "output_type": "display_data",
                    "data": {
                        "text/html": "Total execution time: 00:00:00.261"
                    },
                    "metadata": {}
                }
            ],
            "execution_count": 82
        },
        {
            "cell_type": "code",
            "source": [
                "-- Inserting records for Dean and Registrar into the auth table with password hashes generated using MD5\r\n",
                "INSERT INTO auth (UserID, Password_hash, UserType, Role, Email)\r\n",
                "VALUES \r\n",
                "(1, CONVERT(VARCHAR(32), HASHBYTES('MD5', 'dean'), 2), 'Admin', 'Dean', 'dean@iitg.ac.in'),\r\n",
                "(2, CONVERT(VARCHAR(32), HASHBYTES('MD5', 'registrar'), 2), 'Admin', 'Registrar', 'registrar@iitg.ac.in');\r\n",
                ""
            ],
            "metadata": {
                "language": "sql",
                "azdata_cell_guid": "225752f4-2c5f-4be8-85a9-3d287ed9d216"
            },
            "outputs": [
                {
                    "output_type": "display_data",
                    "data": {
                        "text/html": "(2 rows affected)"
                    },
                    "metadata": {}
                },
                {
                    "output_type": "display_data",
                    "data": {
                        "text/html": "Total execution time: 00:00:00.256"
                    },
                    "metadata": {}
                }
            ],
            "execution_count": 83
        },
        {
            "cell_type": "code",
            "source": [
                "INSERT INTO faculty (User_ID, Name, Contact, Email, Office_Room, Joining_Year, Research_Interests, Designation)\r\n",
                "VALUES \r\n",
                "(1990001, 'Non CS', '+91-361-9999999', 'non_cs@iitg.ac.in', 'H-999', 1990, 'Non-CS', 'Professor');\r\n",
                "\r\n",
                "INSERT INTO auth (UserID, Password_hash, UserType, Role, Email)\r\n",
                "VALUES \r\n",
                "(1990001, CONVERT(VARCHAR(32), HASHBYTES('MD5', 'non_cs'), 2), 'Faculty', 'Faculty', 'non_cs@iitg.ac.in');"
            ],
            "metadata": {
                "language": "sql",
                "azdata_cell_guid": "5f0c2ff0-56d9-4561-8d70-24405720ad80"
            },
            "outputs": [
                {
                    "output_type": "display_data",
                    "data": {
                        "text/html": "(1 row affected)"
                    },
                    "metadata": {}
                },
                {
                    "output_type": "display_data",
                    "data": {
                        "text/html": "(1 row affected)"
                    },
                    "metadata": {}
                },
                {
                    "output_type": "display_data",
                    "data": {
                        "text/html": "Total execution time: 00:00:00.320"
                    },
                    "metadata": {}
                }
            ],
            "execution_count": 1
        },
        {
            "cell_type": "code",
            "source": [
                "INSERT INTO [dbo].[course_Structure] ([Course_Code], [Name], [L], [T], [P], [C], [Semester])\r\n",
                "VALUES ('MA321', 'Optimization', 3, 0, 0, 6, 5),\r\n",
                "       ('CS345', 'Software Engineering', 2, 0, 0, 4, 6),\r\n",
                "       ('CS341', 'Computer Networks', 3, 0, 0, 6, 5),\r\n",
                "       ('CS346', 'Software Engineering Laboratory', 0, 0, 3, 3, 6),\r\n",
                "       ('CS342', 'Computer Networks Laboratory', 0, 0, 4, 4, 5),\r\n",
                "       ('CS348', 'Implementation of Programming Languages Lab', 0, 2, 3, 7, 6),\r\n",
                "       ('CS343', 'Operating Systems', 3, 0, 0, 6, 5),\r\n",
                "       ('CS361', 'Machine Learning', 3, 0, 0, 6, 6),\r\n",
                "       ('CS344', 'Operating Systems Laboratory', 0, 0, 4, 4, 5),\r\n",
                "       ('CSxxx', 'Departmental Elective - II', 3, 0, 0, 6, 6),\r\n",
                "       ('CSxxx', 'Departmental Elective - I', 3, 0, 0, 6, 5),\r\n",
                "       ('CSxxx', 'Departmental Elective - III', 3, 0, 0, 6, 6),\r\n",
                "       ('HS1xx', 'HSS Elective - II Level-I', 3, 0, 0, 6, 5),\r\n",
                "       ('CSxxx', 'Departmental Elective - IV', 0, 1, 3, 5, 6);\r\n",
                ""
            ],
            "metadata": {
                "azdata_cell_guid": "2fb1aa12-11a0-4729-9a2d-24633845cb85",
                "language": "sql"
            },
            "outputs": [
                {
                    "output_type": "display_data",
                    "data": {
                        "text/html": "(14 rows affected)"
                    },
                    "metadata": {}
                },
                {
                    "output_type": "display_data",
                    "data": {
                        "text/html": "Total execution time: 00:00:00.288"
                    },
                    "metadata": {}
                }
            ],
            "execution_count": 3
        },
        {
            "cell_type": "code",
            "source": [
                "INSERT INTO [dbo].[course_Structure] ([Course_Code], [Name], [L], [T], [P], [C], [Semester])\r\n",
                "VALUES ('OE4xx', 'Open Elective', 3, 0, 0, 6, 7),\r\n",
                "       ('OExxx', 'Open Elective', 3, 0, 0, 6, 8),\r\n",
                "       ('OExxx / CSxxx', 'Open Elective / Departmental Elective -V', 3, 0, 0, 6, 7),\r\n",
                "       ('OExxx', 'Open Elective', 3, 0, 0, 6, 8),\r\n",
                "       ('CSxxx', 'Departmental Elective-VI', 3, 0, 0, 6, 7),\r\n",
                "       ('CSxxx', 'Departmental Elective -IX', 3, 0, 0, 6, 8),\r\n",
                "       ('CSxxx', 'Departmental Elective-VII', 3, 0, 0, 6, 7),\r\n",
                "       ('CSxxx', 'Departmental Elective-X', 3, 0, 0, 6, 8),\r\n",
                "       ('CSxxx', 'Departmental Elective-VIII', 3, 0, 0, 6, 7),\r\n",
                "       ('CSxxx', 'Departmental Elective-XI', 3, 0, 0, 6, 8),\r\n",
                "       ('HS2xx', 'HSS Elective - I Level-II', 3, 0, 0, 6, 7),\r\n",
                "       ('HS2xx', 'HSS Elective - II Level-II', 3, 0, 0, 6, 8);\r\n",
                ""
            ],
            "metadata": {
                "language": "sql",
                "azdata_cell_guid": "c562484d-081f-4751-bd6f-f919047cdcfe"
            },
            "outputs": [
                {
                    "output_type": "display_data",
                    "data": {
                        "text/html": "(12 rows affected)"
                    },
                    "metadata": {}
                },
                {
                    "output_type": "display_data",
                    "data": {
                        "text/html": "Total execution time: 00:00:00.288"
                    },
                    "metadata": {}
                }
            ],
            "execution_count": 7
        },
        {
            "cell_type": "code",
            "source": [
                "INSERT INTO [dbo].[course_Structure] ([Course_Code], [Name], [L], [T], [P], [C], [Semester])\r\n",
                "VALUES ('MA222', 'Elementary Number Theory and Algebra', 3, 0, 0, 6, 1),\r\n",
                "       ('CS205', 'Formal Languages, Automata Theory and Computation', 3, 0, 0, 6, 1),\r\n",
                "       ('MA225', 'Probability Theory and Random Processes', 3, 1, 0, 8, 1),\r\n",
                "       ('CS207', 'Design and Analysis of Algorithms', 3, 0, 0, 6, 1),\r\n",
                "       ('CS201', 'Discrete Mathematics', 3, 0, 0, 6, 1),\r\n",
                "       ('CS223', 'Computer Architecture and Organization', 3, 0, 0, 6, 1),\r\n",
                "       ('CS203', 'Algorithms and Data Structures', 3, 0, 0, 6, 1),\r\n",
                "       ('CS224', 'Hardware Laboratory', 0, 1, 4, 6, 1),\r\n",
                "       ('CS204', 'Algorithms and Data Structures Laboratory', 0, 1, 3, 5, 1),\r\n",
                "       ('CS245', 'Database Management Systems', 3, 0, 0, 6, 2),\r\n",
                "       ('CS221', 'Digital Design', 3, 0, 0, 6, 2),\r\n",
                "       ('CS246', 'Database Management Systems Laboratory', 0, 0, 4, 4, 2),\r\n",
                "       ('CS242', 'System Software Laboratory', 0, 1, 3, 5, 2),\r\n",
                "       ('HS1xx', 'HSS Elective - I Level-I', 3, 0, 0, 6, 2);\r\n",
                ""
            ],
            "metadata": {
                "language": "sql",
                "azdata_cell_guid": "10b212ff-6ba6-45f9-adef-59a7ee5fa814"
            },
            "outputs": [
                {
                    "output_type": "display_data",
                    "data": {
                        "text/html": "(14 rows affected)"
                    },
                    "metadata": {}
                },
                {
                    "output_type": "display_data",
                    "data": {
                        "text/html": "Total execution time: 00:00:00.288"
                    },
                    "metadata": {}
                }
            ],
            "execution_count": 8
        },
        {
            "cell_type": "code",
            "source": [
                "INSERT INTO [dbo].[course_Structure] ([Course_Code], [Name], [L], [T], [P], [C], [Semester])\r\n",
                "VALUES ('MA222', 'Elementary Number Theory and Algebra', 3, 0, 0, 6, 3),\r\n",
                "       ('CS205', 'Formal Languages, Automata Theory and Computation', 3, 0, 0, 6, 4),\r\n",
                "       ('MA225', 'Probability Theory and Random Processes', 3, 1, 0, 8, 3),\r\n",
                "       ('CS207', 'Design and Analysis of Algorithms', 3, 0, 0, 6, 4),\r\n",
                "       ('CS201', 'Discrete Mathematics', 3, 0, 0, 6, 3),\r\n",
                "       ('CS223', 'Computer Architecture and Organization', 3, 0, 0, 6, 4),\r\n",
                "       ('CS203', 'Algorithms and Data Structures', 3, 0, 0, 6, 3),\r\n",
                "       ('CS224', 'Hardware Laboratory', 0, 1, 4, 6, 4),\r\n",
                "       ('CS204', 'Algorithms and Data Structures Laboratory', 0, 1, 3, 5, 3),\r\n",
                "       ('CS245', 'Database Management Systems', 3, 0, 0, 6, 4),\r\n",
                "       ('CS221', 'Digital Design', 3, 0, 0, 6, 3),\r\n",
                "       ('CS246', 'Database Management Systems Laboratory', 0, 0, 4, 4, 4),\r\n",
                "       ('CS242', 'System Software Laboratory', 0, 1, 3, 5, 3),\r\n",
                "       ('HS1xx', 'HSS Elective - I Level-I', 3, 0, 0, 6, 4);\r\n",
                ""
            ],
            "metadata": {
                "language": "sql",
                "azdata_cell_guid": "e906aae5-7f58-44e9-b145-3077a4b84309"
            },
            "outputs": [
                {
                    "output_type": "display_data",
                    "data": {
                        "text/html": "(14 rows affected)"
                    },
                    "metadata": {}
                },
                {
                    "output_type": "display_data",
                    "data": {
                        "text/html": "Total execution time: 00:00:00.283"
                    },
                    "metadata": {}
                }
            ],
            "execution_count": 9
        },
        {
            "cell_type": "code",
            "source": [
                "INSERT INTO auth (UserID, Password_hash, UserType, Role, Email)\r\n",
                "VALUES \r\n",
                "(20201001, CONVERT(VARCHAR(32), HASHBYTES('MD5', 'stu2001'), 2), 'Student', 'Student', 'stu2001@iitg.ac.in'),\r\n",
                "(20201002, CONVERT(VARCHAR(32), HASHBYTES('MD5', 'stu2002'), 2), 'Student', 'Student', 'stu2002@iitg.ac.in'),\r\n",
                "(20201003, CONVERT(VARCHAR(32), HASHBYTES('MD5', 'stu2003'), 2), 'Student', 'Student', 'stu2003@iitg.ac.in'),\r\n",
                "(20201004, CONVERT(VARCHAR(32), HASHBYTES('MD5', 'stu2004'), 2), 'Student', 'Student', 'stu2004@iitg.ac.in'),\r\n",
                "(20201005, CONVERT(VARCHAR(32), HASHBYTES('MD5', 'stu2005'), 2), 'Student', 'Student', 'stu2005@iitg.ac.in'),\r\n",
                "(20201006, CONVERT(VARCHAR(32), HASHBYTES('MD5', 'stu2006'), 2), 'Student', 'Student', 'stu2006@iitg.ac.in'),\r\n",
                "(20201007, CONVERT(VARCHAR(32), HASHBYTES('MD5', 'stu2007'), 2), 'Student', 'Student', 'stu2007@iitg.ac.in'),\r\n",
                "(20201008, CONVERT(VARCHAR(32), HASHBYTES('MD5', 'stu2008'), 2), 'Student', 'Student', 'stu2008@iitg.ac.in'),\r\n",
                "(20201009, CONVERT(VARCHAR(32), HASHBYTES('MD5', 'stu2009'), 2), 'Student', 'Student', 'stu2009@iitg.ac.in'),\r\n",
                "(20201010, CONVERT(VARCHAR(32), HASHBYTES('MD5', 'stu2010'), 2), 'Student', 'Student', 'stu2010@iitg.ac.in'),\r\n",
                "(20201011, CONVERT(VARCHAR(32), HASHBYTES('MD5', 'stu2011'), 2), 'Student', 'Student', 'stu2011@iitg.ac.in'),\r\n",
                "(20201012, CONVERT(VARCHAR(32), HASHBYTES('MD5', 'stu2012'), 2), 'Student', 'Student', 'stu2012@iitg.ac.in'),\r\n",
                "(20201013, CONVERT(VARCHAR(32), HASHBYTES('MD5', 'stu2013'), 2), 'Student', 'Student', 'stu2013@iitg.ac.in'),\r\n",
                "(20201014, CONVERT(VARCHAR(32), HASHBYTES('MD5', 'stu2014'), 2), 'Student', 'Student', 'stu2014@iitg.ac.in'),\r\n",
                "(20201015, CONVERT(VARCHAR(32), HASHBYTES('MD5', 'stu2015'), 2), 'Student', 'Student', 'stu2015@iitg.ac.in'),\r\n",
                "(20201016, CONVERT(VARCHAR(32), HASHBYTES('MD5', 'stu2016'), 2), 'Student', 'Student', 'stu2016@iitg.ac.in'),\r\n",
                "(20201017, CONVERT(VARCHAR(32), HASHBYTES('MD5', 'stu2017'), 2), 'Student', 'Student', 'stu2017@iitg.ac.in'),\r\n",
                "(20201018, CONVERT(VARCHAR(32), HASHBYTES('MD5', 'stu2018'), 2), 'Student', 'Student', 'stu2018@iitg.ac.in'),\r\n",
                "(20201019, CONVERT(VARCHAR(32), HASHBYTES('MD5', 'stu2019'), 2), 'Student', 'Student', 'stu2019@iitg.ac.in'),\r\n",
                "(20201020, CONVERT(VARCHAR(32), HASHBYTES('MD5', 'stu2020'), 2), 'Student', 'Student', 'stu2020@iitg.ac.in'),\r\n",
                "(20201021, CONVERT(VARCHAR(32), HASHBYTES('MD5', 'stu2021'), 2), 'Student', 'Student', 'stu2021@iitg.ac.in'),\r\n",
                "(20201022, CONVERT(VARCHAR(32), HASHBYTES('MD5', 'stu2022'), 2), 'Student', 'Student', 'stu2022@iitg.ac.in'),\r\n",
                "(20201023, CONVERT(VARCHAR(32), HASHBYTES('MD5', 'stu2023'), 2), 'Student', 'Student', 'stu2023@iitg.ac.in'),\r\n",
                "(20201024, CONVERT(VARCHAR(32), HASHBYTES('MD5', 'stu2024'), 2), 'Student', 'Student', 'stu2024@iitg.ac.in'),\r\n",
                "(20201025, CONVERT(VARCHAR(32), HASHBYTES('MD5', 'stu2025'), 2), 'Student', 'Student', 'stu2025@iitg.ac.in'),\r\n",
                "(20201026, CONVERT(VARCHAR(32), HASHBYTES('MD5', 'stu2026'), 2), 'Student', 'Student', 'stu2026@iitg.ac.in'),\r\n",
                "(20201027, CONVERT(VARCHAR(32), HASHBYTES('MD5', 'stu2027'), 2), 'Student', 'Student', 'stu2027@iitg.ac.in'),\r\n",
                "(20201028, CONVERT(VARCHAR(32), HASHBYTES('MD5', 'stu2028'), 2), 'Student', 'Student', 'stu2028@iitg.ac.in'),\r\n",
                "(20201029, CONVERT(VARCHAR(32), HASHBYTES('MD5', 'stu2029'), 2), 'Student', 'Student', 'stu2029@iitg.ac.in'),\r\n",
                "(20201030, CONVERT(VARCHAR(32), HASHBYTES('MD5', 'stu2030'), 2), 'Student', 'Student', 'stu2030@iitg.ac.in'),\r\n",
                "(20211001, CONVERT(VARCHAR(32), HASHBYTES('MD5', 'stu2101'), 2), 'Student', 'Student', 'stu2101@iitg.ac.in'),\r\n",
                "(20211002, CONVERT(VARCHAR(32), HASHBYTES('MD5', 'stu2102'), 2), 'Student', 'Student', 'stu2102@iitg.ac.in'),\r\n",
                "(20211003, CONVERT(VARCHAR(32), HASHBYTES('MD5', 'stu2103'), 2), 'Student', 'Student', 'stu2103@iitg.ac.in'),\r\n",
                "(20211004, CONVERT(VARCHAR(32), HASHBYTES('MD5', 'stu2104'), 2), 'Student', 'Student', 'stu2104@iitg.ac.in'),\r\n",
                "(20211005, CONVERT(VARCHAR(32), HASHBYTES('MD5', 'stu2105'), 2), 'Student', 'Student', 'stu2105@iitg.ac.in'),\r\n",
                "(20211006, CONVERT(VARCHAR(32), HASHBYTES('MD5', 'stu2106'), 2), 'Student', 'Student', 'stu2106@iitg.ac.in'),\r\n",
                "(20211007, CONVERT(VARCHAR(32), HASHBYTES('MD5', 'stu2107'), 2), 'Student', 'Student', 'stu2107@iitg.ac.in'),\r\n",
                "(20211008, CONVERT(VARCHAR(32), HASHBYTES('MD5', 'stu2108'), 2), 'Student', 'Student', 'stu2108@iitg.ac.in'),\r\n",
                "(20211009, CONVERT(VARCHAR(32), HASHBYTES('MD5', 'stu2109'), 2), 'Student', 'Student', 'stu2109@iitg.ac.in'),\r\n",
                "(20211010, CONVERT(VARCHAR(32), HASHBYTES('MD5', 'stu2110'), 2), 'Student', 'Student', 'stu2110@iitg.ac.in'),\r\n",
                "(20211011, CONVERT(VARCHAR(32), HASHBYTES('MD5', 'stu2111'), 2), 'Student', 'Student', 'stu2111@iitg.ac.in'),\r\n",
                "(20211012, CONVERT(VARCHAR(32), HASHBYTES('MD5', 'stu2112'), 2), 'Student', 'Student', 'stu2112@iitg.ac.in'),\r\n",
                "(20211013, CONVERT(VARCHAR(32), HASHBYTES('MD5', 'stu2113'), 2), 'Student', 'Student', 'stu2113@iitg.ac.in'),\r\n",
                "(20211014, CONVERT(VARCHAR(32), HASHBYTES('MD5', 'stu2114'), 2), 'Student', 'Student', 'stu2114@iitg.ac.in'),\r\n",
                "(20211015, CONVERT(VARCHAR(32), HASHBYTES('MD5', 'stu2115'), 2), 'Student', 'Student', 'stu2115@iitg.ac.in'),\r\n",
                "(20211016, CONVERT(VARCHAR(32), HASHBYTES('MD5', 'stu2116'), 2), 'Student', 'Student', 'stu2116@iitg.ac.in'),\r\n",
                "(20211017, CONVERT(VARCHAR(32), HASHBYTES('MD5', 'stu2117'), 2), 'Student', 'Student', 'stu2117@iitg.ac.in'),\r\n",
                "(20211018, CONVERT(VARCHAR(32), HASHBYTES('MD5', 'stu2118'), 2), 'Student', 'Student', 'stu2118@iitg.ac.in'),\r\n",
                "(20211019, CONVERT(VARCHAR(32), HASHBYTES('MD5', 'stu2119'), 2), 'Student', 'Student', 'stu2119@iitg.ac.in'),\r\n",
                "(20211020, CONVERT(VARCHAR(32), HASHBYTES('MD5', 'stu2120'), 2), 'Student', 'Student', 'stu2120@iitg.ac.in'),\r\n",
                "(20211021, CONVERT(VARCHAR(32), HASHBYTES('MD5', 'stu2121'), 2), 'Student', 'Student', 'stu2121@iitg.ac.in'),\r\n",
                "(20211022, CONVERT(VARCHAR(32), HASHBYTES('MD5', 'stu2122'), 2), 'Student', 'Student', 'stu2122@iitg.ac.in'),\r\n",
                "(20211023, CONVERT(VARCHAR(32), HASHBYTES('MD5', 'stu2123'), 2), 'Student', 'Student', 'stu2123@iitg.ac.in'),\r\n",
                "(20211024, CONVERT(VARCHAR(32), HASHBYTES('MD5', 'stu2124'), 2), 'Student', 'Student', 'stu2124@iitg.ac.in'),\r\n",
                "(20211025, CONVERT(VARCHAR(32), HASHBYTES('MD5', 'stu2125'), 2), 'Student', 'Student', 'stu2125@iitg.ac.in'),\r\n",
                "(20211026, CONVERT(VARCHAR(32), HASHBYTES('MD5', 'stu2126'), 2), 'Student', 'Student', 'stu2126@iitg.ac.in'),\r\n",
                "(20211027, CONVERT(VARCHAR(32), HASHBYTES('MD5', 'stu2127'), 2), 'Student', 'Student', 'stu2127@iitg.ac.in'),\r\n",
                "(20211028, CONVERT(VARCHAR(32), HASHBYTES('MD5', 'stu2128'), 2), 'Student', 'Student', 'stu2128@iitg.ac.in'),\r\n",
                "(20211029, CONVERT(VARCHAR(32), HASHBYTES('MD5', 'stu2129'), 2), 'Student', 'Student', 'stu2129@iitg.ac.in'),\r\n",
                "(20211030, CONVERT(VARCHAR(32), HASHBYTES('MD5', 'stu2130'), 2), 'Student', 'Student', 'stu2130@iitg.ac.in'),\r\n",
                "(20221001, CONVERT(VARCHAR(32), HASHBYTES('MD5', 'stu2201'), 2), 'Student', 'Student', 'stu2201@iitg.ac.in'),\r\n",
                "(20221002, CONVERT(VARCHAR(32), HASHBYTES('MD5', 'stu2202'), 2), 'Student', 'Student', 'stu2202@iitg.ac.in'),\r\n",
                "(20221003, CONVERT(VARCHAR(32), HASHBYTES('MD5', 'stu2203'), 2), 'Student', 'Student', 'stu2203@iitg.ac.in'),\r\n",
                "(20221004, CONVERT(VARCHAR(32), HASHBYTES('MD5', 'stu2204'), 2), 'Student', 'Student', 'stu2204@iitg.ac.in'),\r\n",
                "(20221005, CONVERT(VARCHAR(32), HASHBYTES('MD5', 'stu2205'), 2), 'Student', 'Student', 'stu2205@iitg.ac.in'),\r\n",
                "(20221006, CONVERT(VARCHAR(32), HASHBYTES('MD5', 'stu2206'), 2), 'Student', 'Student', 'stu2206@iitg.ac.in'),\r\n",
                "(20221007, CONVERT(VARCHAR(32), HASHBYTES('MD5', 'stu2207'), 2), 'Student', 'Student', 'stu2207@iitg.ac.in'),\r\n",
                "(20221008, CONVERT(VARCHAR(32), HASHBYTES('MD5', 'stu2208'), 2), 'Student', 'Student', 'stu2208@iitg.ac.in'),\r\n",
                "(20221009, CONVERT(VARCHAR(32), HASHBYTES('MD5', 'stu2209'), 2), 'Student', 'Student', 'stu2209@iitg.ac.in'),\r\n",
                "(20221010, CONVERT(VARCHAR(32), HASHBYTES('MD5', 'stu2210'), 2), 'Student', 'Student', 'stu2210@iitg.ac.in'),\r\n",
                "(20221011, CONVERT(VARCHAR(32), HASHBYTES('MD5', 'stu2211'), 2), 'Student', 'Student', 'stu2211@iitg.ac.in'),\r\n",
                "(20221012, CONVERT(VARCHAR(32), HASHBYTES('MD5', 'stu2212'), 2), 'Student', 'Student', 'stu2212@iitg.ac.in'),\r\n",
                "(20221013, CONVERT(VARCHAR(32), HASHBYTES('MD5', 'stu2213'), 2), 'Student', 'Student', 'stu2213@iitg.ac.in'),\r\n",
                "(20221014, CONVERT(VARCHAR(32), HASHBYTES('MD5', 'stu2214'), 2), 'Student', 'Student', 'stu2214@iitg.ac.in'),\r\n",
                "(20221015, CONVERT(VARCHAR(32), HASHBYTES('MD5', 'stu2215'), 2), 'Student', 'Student', 'stu2215@iitg.ac.in'),\r\n",
                "(20221016, CONVERT(VARCHAR(32), HASHBYTES('MD5', 'stu2216'), 2), 'Student', 'Student', 'stu2216@iitg.ac.in'),\r\n",
                "(20221017, CONVERT(VARCHAR(32), HASHBYTES('MD5', 'stu2217'), 2), 'Student', 'Student', 'stu2217@iitg.ac.in'),\r\n",
                "(20221018, CONVERT(VARCHAR(32), HASHBYTES('MD5', 'stu2218'), 2), 'Student', 'Student', 'stu2218@iitg.ac.in'),\r\n",
                "(20221019, CONVERT(VARCHAR(32), HASHBYTES('MD5', 'stu2219'), 2), 'Student', 'Student', 'stu2219@iitg.ac.in'),\r\n",
                "(20221020, CONVERT(VARCHAR(32), HASHBYTES('MD5', 'stu2220'), 2), 'Student', 'Student', 'stu2220@iitg.ac.in'),\r\n",
                "(20221021, CONVERT(VARCHAR(32), HASHBYTES('MD5', 'stu2221'), 2), 'Student', 'Student', 'stu2221@iitg.ac.in'),\r\n",
                "(20221022, CONVERT(VARCHAR(32), HASHBYTES('MD5', 'stu2222'), 2), 'Student', 'Student', 'stu2222@iitg.ac.in'),\r\n",
                "(20221023, CONVERT(VARCHAR(32), HASHBYTES('MD5', 'stu2223'), 2), 'Student', 'Student', 'stu2223@iitg.ac.in'),\r\n",
                "(20221024, CONVERT(VARCHAR(32), HASHBYTES('MD5', 'stu2224'), 2), 'Student', 'Student', 'stu2224@iitg.ac.in'),\r\n",
                "(20221025, CONVERT(VARCHAR(32), HASHBYTES('MD5', 'stu2225'), 2), 'Student', 'Student', 'stu2225@iitg.ac.in'),\r\n",
                "(20221026, CONVERT(VARCHAR(32), HASHBYTES('MD5', 'stu2226'), 2), 'Student', 'Student', 'stu2226@iitg.ac.in'),\r\n",
                "(20221027, CONVERT(VARCHAR(32), HASHBYTES('MD5', 'stu2227'), 2), 'Student', 'Student', 'stu2227@iitg.ac.in'),\r\n",
                "(20221028, CONVERT(VARCHAR(32), HASHBYTES('MD5', 'stu2228'), 2), 'Student', 'Student', 'stu2228@iitg.ac.in'),\r\n",
                "(20221029, CONVERT(VARCHAR(32), HASHBYTES('MD5', 'stu2229'), 2), 'Student', 'Student', 'stu2229@iitg.ac.in'),\r\n",
                "(20221030, CONVERT(VARCHAR(32), HASHBYTES('MD5', 'stu2230'), 2), 'Student', 'Student', 'stu2230@iitg.ac.in'),\r\n",
                "(20231001, CONVERT(VARCHAR(32), HASHBYTES('MD5', 'stu2301'), 2), 'Student', 'Student', 'stu2301@iitg.ac.in'),\r\n",
                "(20231002, CONVERT(VARCHAR(32), HASHBYTES('MD5', 'stu2302'), 2), 'Student', 'Student', 'stu2302@iitg.ac.in'),\r\n",
                "(20231003, CONVERT(VARCHAR(32), HASHBYTES('MD5', 'stu2303'), 2), 'Student', 'Student', 'stu2303@iitg.ac.in'),\r\n",
                "(20231004, CONVERT(VARCHAR(32), HASHBYTES('MD5', 'stu2304'), 2), 'Student', 'Student', 'stu2304@iitg.ac.in'),\r\n",
                "(20231005, CONVERT(VARCHAR(32), HASHBYTES('MD5', 'stu2305'), 2), 'Student', 'Student', 'stu2305@iitg.ac.in'),\r\n",
                "(20231006, CONVERT(VARCHAR(32), HASHBYTES('MD5', 'stu2306'), 2), 'Student', 'Student', 'stu2306@iitg.ac.in'),\r\n",
                "(20231007, CONVERT(VARCHAR(32), HASHBYTES('MD5', 'stu2307'), 2), 'Student', 'Student', 'stu2307@iitg.ac.in'),\r\n",
                "(20231008, CONVERT(VARCHAR(32), HASHBYTES('MD5', 'stu2308'), 2), 'Student', 'Student', 'stu2308@iitg.ac.in'),\r\n",
                "(20231009, CONVERT(VARCHAR(32), HASHBYTES('MD5', 'stu2309'), 2), 'Student', 'Student', 'stu2309@iitg.ac.in'),\r\n",
                "(20231010, CONVERT(VARCHAR(32), HASHBYTES('MD5', 'stu2310'), 2), 'Student', 'Student', 'stu2310@iitg.ac.in'),\r\n",
                "(20231011, CONVERT(VARCHAR(32), HASHBYTES('MD5', 'stu2311'), 2), 'Student', 'Student', 'stu2311@iitg.ac.in'),\r\n",
                "(20231012, CONVERT(VARCHAR(32), HASHBYTES('MD5', 'stu2312'), 2), 'Student', 'Student', 'stu2312@iitg.ac.in'),\r\n",
                "(20231013, CONVERT(VARCHAR(32), HASHBYTES('MD5', 'stu2313'), 2), 'Student', 'Student', 'stu2313@iitg.ac.in'),\r\n",
                "(20231014, CONVERT(VARCHAR(32), HASHBYTES('MD5', 'stu2314'), 2), 'Student', 'Student', 'stu2314@iitg.ac.in'),\r\n",
                "(20231015, CONVERT(VARCHAR(32), HASHBYTES('MD5', 'stu2315'), 2), 'Student', 'Student', 'stu2315@iitg.ac.in'),\r\n",
                "(20231016, CONVERT(VARCHAR(32), HASHBYTES('MD5', 'stu2316'), 2), 'Student', 'Student', 'stu2316@iitg.ac.in'),\r\n",
                "(20231017, CONVERT(VARCHAR(32), HASHBYTES('MD5', 'stu2317'), 2), 'Student', 'Student', 'stu2317@iitg.ac.in'),\r\n",
                "(20231018, CONVERT(VARCHAR(32), HASHBYTES('MD5', 'stu2318'), 2), 'Student', 'Student', 'stu2318@iitg.ac.in'),\r\n",
                "(20231019, CONVERT(VARCHAR(32), HASHBYTES('MD5', 'stu2319'), 2), 'Student', 'Student', 'stu2319@iitg.ac.in'),\r\n",
                "(20231020, CONVERT(VARCHAR(32), HASHBYTES('MD5', 'stu2320'), 2), 'Student', 'Student', 'stu2320@iitg.ac.in'),\r\n",
                "(20231021, CONVERT(VARCHAR(32), HASHBYTES('MD5', 'stu2321'), 2), 'Student', 'Student', 'stu2321@iitg.ac.in'),\r\n",
                "(20231022, CONVERT(VARCHAR(32), HASHBYTES('MD5', 'stu2322'), 2), 'Student', 'Student', 'stu2322@iitg.ac.in'),\r\n",
                "(20231023, CONVERT(VARCHAR(32), HASHBYTES('MD5', 'stu2323'), 2), 'Student', 'Student', 'stu2323@iitg.ac.in'),\r\n",
                "(20231024, CONVERT(VARCHAR(32), HASHBYTES('MD5', 'stu2324'), 2), 'Student', 'Student', 'stu2324@iitg.ac.in'),\r\n",
                "(20231025, CONVERT(VARCHAR(32), HASHBYTES('MD5', 'stu2325'), 2), 'Student', 'Student', 'stu2325@iitg.ac.in'),\r\n",
                "(20231026, CONVERT(VARCHAR(32), HASHBYTES('MD5', 'stu2326'), 2), 'Student', 'Student', 'stu2326@iitg.ac.in'),\r\n",
                "(20231027, CONVERT(VARCHAR(32), HASHBYTES('MD5', 'stu2327'), 2), 'Student', 'Student', 'stu2327@iitg.ac.in'),\r\n",
                "(20231028, CONVERT(VARCHAR(32), HASHBYTES('MD5', 'stu2328'), 2), 'Student', 'Student', 'stu2328@iitg.ac.in'),\r\n",
                "(20231029, CONVERT(VARCHAR(32), HASHBYTES('MD5', 'stu2329'), 2), 'Student', 'Student', 'stu2329@iitg.ac.in'),\r\n",
                "(20231030, CONVERT(VARCHAR(32), HASHBYTES('MD5', 'stu2330'), 2), 'Student', 'Student', 'stu2330@iitg.ac.in');\r\n",
                ""
            ],
            "metadata": {
                "language": "sql",
                "azdata_cell_guid": "81bc15d4-052d-41de-8a4c-654e131d274e"
            },
            "outputs": [
                {
                    "output_type": "display_data",
                    "data": {
                        "text/html": "(120 rows affected)"
                    },
                    "metadata": {}
                },
                {
                    "output_type": "display_data",
                    "data": {
                        "text/html": "Total execution time: 00:00:00.308"
                    },
                    "metadata": {}
                }
            ],
            "execution_count": 10
        },
        {
            "cell_type": "code",
            "source": [
                "UPDATE student\r\n",
                "SET Email = CONCAT(name, '@iitg.ac.in');\r\n",
                ""
            ],
            "metadata": {
                "azdata_cell_guid": "cbd50361-1563-47cb-8647-7b1a4208bf99",
                "language": "sql"
            },
            "outputs": [
                {
                    "output_type": "display_data",
                    "data": {
                        "text/html": "(120 rows affected)"
                    },
                    "metadata": {}
                },
                {
                    "output_type": "display_data",
                    "data": {
                        "text/html": "Total execution time: 00:00:00.297"
                    },
                    "metadata": {}
                }
            ],
            "execution_count": 11
        },
        {
            "cell_type": "code",
            "source": [
                ""
            ],
            "metadata": {
                "azdata_cell_guid": "560ec0db-bc34-4d4e-a01a-04992d002b8f",
                "language": "sql"
            },
            "outputs": [],
            "execution_count": null
        }
    ]
}